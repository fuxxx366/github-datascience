{
 "cells": [
  {
   "cell_type": "markdown",
   "metadata": {},
   "source": [
    "# Preparations"
   ]
  },
  {
   "cell_type": "code",
   "execution_count": null,
   "metadata": {},
   "outputs": [],
   "source": [
    "#First, lets import all the libraries to be used on this notebook\n",
    "import numpy as np # library to handle data in a vectorized manner\n",
    "\n",
    "import pandas as pd # library for data analsysis\n",
    "pd.set_option('display.max_columns', None)\n",
    "pd.set_option('display.max_rows', None)\n",
    "\n",
    "import json # library to handle JSON files\n",
    "\n",
    "#!conda install -c conda-forge geopy --yes # uncomment this line if you haven't completed the Foursquare API lab\n",
    "from geopy.geocoders import Nominatim # convert an address into latitude and longitude values\n",
    "\n",
    "import requests # library to handle requests\n",
    "from pandas.io.json import json_normalize # tranform JSON file into a pandas dataframe\n",
    "\n",
    "# Matplotlib and associated plotting modules\n",
    "import matplotlib.cm as cm\n",
    "import matplotlib.colors as colors\n",
    "\n",
    "# import k-means from clustering stage\n",
    "from sklearn.cluster import KMeans\n",
    "\n",
    "#!conda install -c conda-forge folium=0.5.0 --yes # uncomment this line if you haven't completed the Foursquare API lab\n",
    "import folium # map rendering library\n",
    "\n",
    "print('Libraries imported.')"
   ]
  },
  {
   "cell_type": "markdown",
   "metadata": {},
   "source": [
    "# Data acquisition and preparation"
   ]
  },
  {
   "cell_type": "code",
   "execution_count": null,
   "metadata": {},
   "outputs": [],
   "source": [
    "#Get cities in MN from wiki\n",
    "#Download page and store locally\n",
    "url_mn  = \"https://en.wikipedia.org/wiki/List_of_cities_in_Minnesota\"\n",
    "page = requests.get(url_mn)\n",
    "if page.status_code == 200:\n",
    "    print('Page download successful')\n",
    "else:\n",
    "    print('Page download error. Error code: {}'.format(page.status_code))"
   ]
  },
  {
   "cell_type": "code",
   "execution_count": null,
   "metadata": {},
   "outputs": [],
   "source": [
    "#read_html\n",
    "#convert \"Not Assigned\" to NaN to use dropna\n",
    "df_mn = pd.read_html(url_mn)[0]\n",
    "df_mn.head()"
   ]
  },
  {
   "cell_type": "code",
   "execution_count": null,
   "metadata": {},
   "outputs": [],
   "source": [
    "#Get safety index\n",
    "#Download page and store locally\n",
    "url_mn_safety  = \"https://backgroundchecks.org/safest-cities-in-minnesota.html\"\n",
    "page = requests.get(url_mn_safety)\n",
    "if page.status_code == 200:\n",
    "    print('Page download successful')\n",
    "else:\n",
    "    print('Page download error. Error code: {}'.format(page.status_code))"
   ]
  },
  {
   "cell_type": "code",
   "execution_count": null,
   "metadata": {},
   "outputs": [],
   "source": [
    "#read_html\n",
    "#convert \"Not Assigned\" to NaN to use dropna\n",
    "df_mnsafety = pd.read_html(url_mn_safety)[0]\n",
    "df_mnsafety.head()"
   ]
  },
  {
   "cell_type": "code",
   "execution_count": null,
   "metadata": {},
   "outputs": [],
   "source": [
    "# Merge two df\n",
    "df_merge = pd.merge(df_mn, df_mnsafety, on='City')\n",
    "df_merge.head()"
   ]
  },
  {
   "cell_type": "code",
   "execution_count": null,
   "metadata": {},
   "outputs": [],
   "source": [
    "df_merge.shape"
   ]
  },
  {
   "cell_type": "code",
   "execution_count": null,
   "metadata": {},
   "outputs": [],
   "source": [
    "#pick the city with positive safety index\n",
    "df_safe = df_merge[df_merge['Safety Index']>0]\n",
    "df_safe.head()"
   ]
  },
  {
   "cell_type": "code",
   "execution_count": null,
   "metadata": {},
   "outputs": [],
   "source": [
    "df_safe = df_safe.drop(columns = ['2019 Rank','2019 Estimate[4]','2010 Census[5]','Rank','Change'])\n",
    "df_safe.head()"
   ]
  },
  {
   "cell_type": "code",
   "execution_count": null,
   "metadata": {},
   "outputs": [],
   "source": [
    "a = ['Minnesota']*df_safe.shape[0]\n",
    "df_safe['State'] = a\n",
    "b = ['United States']*df_safe.shape[0]\n",
    "df_safe['Country'] = b\n",
    "df_safe = df_safe.drop(columns = ['County'])\n",
    "df_safe.head()"
   ]
  },
  {
   "cell_type": "code",
   "execution_count": null,
   "metadata": {},
   "outputs": [],
   "source": [
    "#Since there are only six central districts in Tianjin, we manually create the dataframe and name them as cities for consistency\n",
    "tj = pd.DataFrame(data={'City': ['Hedong','Heping','Hexi','Hebei','Nankai','Hongqiao']})\n",
    "c = ['Tianjin']*tj.shape[0]\n",
    "d = ['China']*tj.shape[0]\n",
    "tj['State'] = c\n",
    "tj['Country'] = d\n",
    "tj.head()"
   ]
  },
  {
   "cell_type": "code",
   "execution_count": null,
   "metadata": {},
   "outputs": [],
   "source": [
    "#combine cities in Tianjin and Minnesota\n",
    "df_all = pd.concat([tj, df_safe],ignore_index=True)\n",
    "df_all"
   ]
  },
  {
   "cell_type": "code",
   "execution_count": null,
   "metadata": {},
   "outputs": [],
   "source": [
    "all_cities= pd.DataFrame(columns = ['City','State','Country'])\n",
    "\n",
    "for ii in range(df_all.shape[0]):\n",
    "    city = df_all.loc[ii,'City']\n",
    "    state = df_all.loc[ii,'State']\n",
    "    country = df_all.loc[ii,'Country']\n",
    "    \n",
    "    #find the location data, ignore the neighborhoods that are unable to be located by Nominatim\n",
    "    geolocator = Nominatim(user_agent=\"address_explorer\")\n",
    "    location = geolocator.geocode(\"{}, {}, {}\".format(city, state, country))\n",
    "          \n",
    "    if location is None: \n",
    "        print(\"The location data of {} in {} is not available!\".format(city,state))\n",
    "    else:\n",
    "        all_cities = all_cities.append({'City': city,\n",
    "                                        'State': state,\n",
    "                                        'Country': country,\n",
    "                                        'Latitude': location.latitude,\n",
    "                                        'Longitude': location.longitude\n",
    "                                        }, ignore_index=True)"
   ]
  },
  {
   "cell_type": "code",
   "execution_count": null,
   "metadata": {},
   "outputs": [],
   "source": [
    "all_cities.head()"
   ]
  },
  {
   "cell_type": "code",
   "execution_count": null,
   "metadata": {},
   "outputs": [],
   "source": [
    "tj_cities = all_cities[:6]\n",
    "mn_cities = all_cities[6:]"
   ]
  },
  {
   "cell_type": "code",
   "execution_count": null,
   "metadata": {},
   "outputs": [],
   "source": [
    "# Use geopy library to get the latitude and longitude values of Minnesota areas\n",
    "addressmn = 'Minnesota, United States'\n",
    "\n",
    "geolocator = Nominatim(user_agent=\"mn_explorer\")\n",
    "locationmn = geolocator.geocode(addressmn)\n",
    "latitudemn = locationmn.latitude\n",
    "longitudemn = locationmn.longitude\n",
    "print('The geograpical coordinate of MN is {}, {}.'.format(latitudemn, longitudemn))"
   ]
  },
  {
   "cell_type": "code",
   "execution_count": null,
   "metadata": {},
   "outputs": [],
   "source": [
    "# Use geopy library to get the latitude and longitude values of Tianjin areas\n",
    "addresstj = 'Tianjin, China'\n",
    "\n",
    "geolocator = Nominatim(user_agent=\"tj_explorer\")\n",
    "locationtj = geolocator.geocode(addresstj)\n",
    "latitudetj = locationtj.latitude\n",
    "longitudetj = locationtj.longitude\n",
    "print('The geograpical coordinate of TJ is {}, {}.'.format(latitudetj, longitudetj))"
   ]
  },
  {
   "cell_type": "code",
   "execution_count": null,
   "metadata": {},
   "outputs": [],
   "source": [
    "# create map of mn using latitude and longitude values\n",
    "map_mn_cities = folium.Map(location=[latitudemn, longitudemn], zoom_start=10)\n",
    "\n",
    "# add markers to map\n",
    "for lat, lng, city in zip(mn_cities['Latitude'], mn_cities['Longitude'], mn_cities['City']):\n",
    "    label = '{}'.format(city)\n",
    "    label = folium.Popup(label, parse_html=True)\n",
    "    folium.CircleMarker(\n",
    "        [lat, lng],\n",
    "        radius=5,\n",
    "        popup=label,\n",
    "        color='blue',\n",
    "        fill=True,\n",
    "        fill_color='#3186cc',\n",
    "        fill_opacity=0.7,\n",
    "        parse_html=False).add_to(map_mn_cities)  \n",
    "    \n",
    "map_mn_cities"
   ]
  },
  {
   "cell_type": "code",
   "execution_count": null,
   "metadata": {},
   "outputs": [],
   "source": [
    "# create map of mn using latitude and longitude values\n",
    "map_tj_cities = folium.Map(location=[latitudetj, longitudetj], zoom_start=10)\n",
    "\n",
    "# add markers to map\n",
    "for lat, lng, city in zip(tj_cities['Latitude'], tj_cities['Longitude'], tj_cities['City']):\n",
    "    label = '{}'.format(city)\n",
    "    label = folium.Popup(label, parse_html=True)\n",
    "    folium.CircleMarker(\n",
    "        [lat, lng],\n",
    "        radius=5,\n",
    "        popup=label,\n",
    "        color='green',\n",
    "        fill=True,\n",
    "        fill_color='#3186cc',\n",
    "        fill_opacity=0.7,\n",
    "        parse_html=False).add_to(map_tj_cities)  \n",
    "    \n",
    "map_tj_cities\n"
   ]
  },
  {
   "cell_type": "code",
   "execution_count": null,
   "metadata": {},
   "outputs": [],
   "source": [
    "#Define Foursquare Credentials and Version\n",
    "CLIENT_ID = '' # your Foursquare ID\n",
    "CLIENT_SECRET = '' # your Foursquare Secret\n",
    "VERSION = '20180605' # Foursquare API version\n",
    "\n",
    "print('Your credentails:')\n",
    "print('CLIENT_ID: ' + CLIENT_ID)\n",
    "print('CLIENT_SECRET:' + CLIENT_SECRET)"
   ]
  },
  {
   "cell_type": "code",
   "execution_count": null,
   "metadata": {},
   "outputs": [],
   "source": [
    "LIMIT = 1000 # limit of number of venues returned by Foursquare API\n",
    "\n",
    "def getNearbyVenues(names, latitudes, longitudes, radius=1000):\n",
    "    \n",
    "    venues_list=[]\n",
    "    for name, lat, lng in zip(names, latitudes, longitudes):\n",
    "        print(name)\n",
    "            \n",
    "        # create the API request URL\n",
    "        url = 'https://api.foursquare.com/v2/venues/explore?&client_id={}&client_secret={}&v={}&ll={},{}&radius={}&limit={}'.format(\n",
    "            CLIENT_ID, \n",
    "            CLIENT_SECRET, \n",
    "            VERSION, \n",
    "            lat, \n",
    "            lng, \n",
    "            radius, \n",
    "            LIMIT)\n",
    "            \n",
    "        # make the GET request\n",
    "        results = requests.get(url).json()[\"response\"]['groups'][0]['items']\n",
    "        \n",
    "        # return only relevant information for each nearby venue\n",
    "        venues_list.append([(\n",
    "            name, \n",
    "            lat, \n",
    "            lng, \n",
    "            v['venue']['name'], \n",
    "            v['venue']['location']['lat'], \n",
    "            v['venue']['location']['lng'],  \n",
    "            v['venue']['categories'][0]['name']) for v in results])\n",
    "\n",
    "    nearby_venues = pd.DataFrame([item for venue_list in venues_list for item in venue_list])\n",
    "    nearby_venues.columns = ['City', \n",
    "                  'City Latitude', \n",
    "                  'City Longitude', \n",
    "                  'Venue', \n",
    "                  'Venue Latitude', \n",
    "                  'Venue Longitude', \n",
    "                  'Venue Category']\n",
    "    \n",
    "    return(nearby_venues)"
   ]
  },
  {
   "cell_type": "code",
   "execution_count": null,
   "metadata": {},
   "outputs": [],
   "source": [
    "# write the code to run the above function on each neighborhood and create a new dataframe called all_venues\n",
    "all_venues = getNearbyVenues(names=all_cities['City'],\n",
    "                                   latitudes=all_cities['Latitude'],\n",
    "                                   longitudes=all_cities['Longitude']\n",
    "                                  )\n",
    "\n"
   ]
  },
  {
   "cell_type": "code",
   "execution_count": null,
   "metadata": {},
   "outputs": [],
   "source": [
    "all_venues.head()"
   ]
  },
  {
   "cell_type": "code",
   "execution_count": null,
   "metadata": {},
   "outputs": [],
   "source": [
    "all_venues.shape"
   ]
  },
  {
   "cell_type": "code",
   "execution_count": null,
   "metadata": {},
   "outputs": [],
   "source": [
    "#Let's find out how many unique categories can be curated from all the returned venues\n",
    "print('There are {} uniques categories.'.format(len(all_venues['Venue Category'].unique())))"
   ]
  },
  {
   "cell_type": "markdown",
   "metadata": {},
   "source": [
    "# Data analysis"
   ]
  },
  {
   "cell_type": "code",
   "execution_count": null,
   "metadata": {},
   "outputs": [],
   "source": [
    "# one hot encoding\n",
    "allvenues_onehot = pd.get_dummies(all_venues[['Venue Category']], prefix=\"\", prefix_sep=\"\")\n",
    "\n",
    "# add neighborhood column back to dataframe\n",
    "allvenues_onehot['City'] = all_venues['City'] \n",
    "\n",
    "# move neighborhood column to the first column\n",
    "fixed_columns = [allvenues_onehot.columns[-1]] + list(allvenues_onehot.columns[:-1])\n",
    "allvenues_onehot = allvenues_onehot[fixed_columns]\n",
    "\n",
    "allvenues_onehot.head()"
   ]
  },
  {
   "cell_type": "code",
   "execution_count": null,
   "metadata": {},
   "outputs": [],
   "source": [
    "allvenues_onehot.shape"
   ]
  },
  {
   "cell_type": "code",
   "execution_count": null,
   "metadata": {},
   "outputs": [],
   "source": [
    "# data cleaning\n",
    "def clean_columns(columns,newcolumnname,dataframe):\n",
    "    value = 0\n",
    "    for column in columns:\n",
    "        value = dataframe[column] + value\n",
    "    \n",
    "    dataframe = dataframe.drop(columns,axis = 1)\n",
    "    dataframe[newcolumnname] = value\n",
    "    \n",
    "    return dataframe\n",
    "\n",
    "columns = ['Art Gallery', 'Arts & Crafts Store','Museum']\n",
    "newcolumnname = 'Art Museum'\n",
    "allvenues_onehot = clean_columns(columns,newcolumnname,allvenues_onehot)\n",
    "\n",
    "\n",
    "columns = ['Baseball Field','Baseball Stadium']\n",
    "newcolumnname = 'Baseball Field'\n",
    "allvenues_onehot = clean_columns(columns,newcolumnname,allvenues_onehot)\n",
    "\n",
    "\n",
    "columns = ['Soccer Field', 'Soccer Stadium','Stadium']\n",
    "newcolumnname = 'Stadium'\n",
    "allvenues_onehot = clean_columns(columns,newcolumnname,allvenues_onehot)\n",
    "\n",
    "\n",
    "columns = ['Bar','Beer Garden', 'Cocktail Bar','Whisky Bar', 'Wine Bar','Hotel Bar']\n",
    "newcolumnname = 'Bar'\n",
    "allvenues_onehot = clean_columns(columns,newcolumnname,allvenues_onehot)\n",
    "\n",
    "columns = ['Wine Shop','Liquor Store']\n",
    "newcolumnname = 'Liquor'\n",
    "allvenues_onehot = clean_columns(columns,newcolumnname,allvenues_onehot)\n",
    "\n",
    "\n",
    "columns = [ 'Café','Coffee Shop','Gaming Cafe']\n",
    "newcolumnname = 'Cafeteria'\n",
    "allvenues_onehot = clean_columns(columns,newcolumnname,allvenues_onehot)\n",
    "\n",
    "columns = ['Food', 'Food & Drink Shop',\n",
    "        'Food Service', 'Food Truck']\n",
    "newcolumnname = 'Street Food'\n",
    "allvenues_onehot = clean_columns(columns,newcolumnname,allvenues_onehot)\n",
    "  \n",
    "columns = ['Shopping Mall', 'Shopping Plaza']\n",
    "newcolumnname = 'Shopping Mall'\n",
    "allvenues_onehot = clean_columns(columns,newcolumnname,allvenues_onehot)\n",
    "\n",
    "\n",
    "\n",
    "columns = ['Sporting Goods Shop', 'Sports Bar']\n",
    "newcolumnname = 'Sports'\n",
    "allvenues_onehot = clean_columns(columns,newcolumnname,allvenues_onehot)\n",
    "\n",
    "columns = ['Gym','Gym / Fitness Center', 'Gym Pool', 'Gymnastics Gym']\n",
    "newcolumnname = 'Gym'\n",
    "allvenues_onehot = clean_columns(columns,newcolumnname,allvenues_onehot)\n",
    "\n",
    "columns = [ 'Japanese Restaurant','Ramen Restaurant','Sushi Restaurant']\n",
    "newcolumnname = 'Japanese Restaurant'\n",
    "allvenues_onehot = clean_columns(columns,newcolumnname,allvenues_onehot)\n",
    "\n",
    "columns = ['Metro Station','Light Rail Station']\n",
    "newcolumnname = 'Metro Station'\n",
    "allvenues_onehot = clean_columns(columns,newcolumnname,allvenues_onehot)\n",
    "\n",
    "\n",
    "columns = [ 'Pet Service', 'Pet Store','Animal Shelter']\n",
    "newcolumnname = 'Pet Service'\n",
    "allvenues_onehot = clean_columns(columns,newcolumnname,allvenues_onehot)\n",
    "\n",
    "\n",
    "columns = ['Chinese Restaurant','Hotpot Restaurant', \n",
    "           'Dim Sum Restaurant','Dumpling Restaurant','Taiwanese Restaurant',\n",
    "          ]\n",
    "newcolumnname = 'Chinese Restaurant'\n",
    "allvenues_onehot = clean_columns(columns,newcolumnname,allvenues_onehot)\n",
    "\n",
    "#allvenues_onehot.columns.values"
   ]
  },
  {
   "cell_type": "code",
   "execution_count": null,
   "metadata": {},
   "outputs": [],
   "source": [
    "allvenues_onehot.head()"
   ]
  },
  {
   "cell_type": "code",
   "execution_count": null,
   "metadata": {},
   "outputs": [],
   "source": [
    "#Next, let's group rows by neighborhood and by taking the mean of the frequency of occurrence of each category\n",
    "all_grouped = allvenues_onehot.groupby('City').mean().reset_index()\n",
    "all_grouped"
   ]
  },
  {
   "cell_type": "code",
   "execution_count": null,
   "metadata": {},
   "outputs": [],
   "source": [
    "#Let's print each neighborhood along with the top 5 most common venues\n",
    "num_top_venues = 5\n",
    "\n",
    "for hood in all_grouped['City']:\n",
    "    print(\"----\"+hood+\"----\")\n",
    "    temp = all_grouped[all_grouped['City'] == hood].T.reset_index()\n",
    "    temp.columns = ['venue','freq']\n",
    "    temp = temp.iloc[1:]\n",
    "    temp['freq'] = temp['freq'].astype(float)\n",
    "    temp = temp.round({'freq': 2})\n",
    "    print(temp.sort_values('freq', ascending=False).reset_index(drop=True).head(num_top_venues))\n",
    "    print('\\n')"
   ]
  },
  {
   "cell_type": "code",
   "execution_count": null,
   "metadata": {},
   "outputs": [],
   "source": [
    "#Let's put that into a pandas dataframe\n",
    "#First, let's write a function to sort the venues in descending order.\n",
    "def return_most_common_venues(row, num_top_venues):\n",
    "    row_categories = row.iloc[1:]\n",
    "    row_categories_sorted = row_categories.sort_values(ascending=False)\n",
    "    \n",
    "    return row_categories_sorted.index.values[0:num_top_venues]"
   ]
  },
  {
   "cell_type": "code",
   "execution_count": null,
   "metadata": {},
   "outputs": [],
   "source": [
    "#Now let's create the new dataframe and display the top 20 venues for each neighborhood.\n",
    "num_top_venues = 20\n",
    "\n",
    "indicators = ['st', 'nd', 'rd']\n",
    "\n",
    "# create columns according to number of top venues\n",
    "columns = ['City']\n",
    "for ind in np.arange(num_top_venues):\n",
    "    try:\n",
    "        columns.append('{}{} Most Common Venue'.format(ind+1, indicators[ind]))\n",
    "    except:\n",
    "        columns.append('{}th Most Common Venue'.format(ind+1))\n",
    "\n",
    "# create a new dataframe\n",
    "cities_venues_sorted = pd.DataFrame(columns=columns)\n",
    "cities_venues_sorted['City'] = all_grouped['City']\n",
    "\n",
    "for ind in np.arange(all_grouped.shape[0]):\n",
    "    cities_venues_sorted.iloc[ind, 1:] = return_most_common_venues(all_grouped.iloc[ind, :], num_top_venues)\n",
    "\n",
    "cities_venues_sorted"
   ]
  },
  {
   "cell_type": "code",
   "execution_count": null,
   "metadata": {},
   "outputs": [],
   "source": [
    "#Run k-means to cluster the neighborhood into 5 clusters.\n",
    "# set number of clusters\n",
    "kclusters = 5\n",
    "\n",
    "all_grouped_clustering = all_grouped.drop('City', 1)\n",
    "\n",
    "# run k-means clustering\n",
    "kmeans = KMeans(n_clusters=kclusters, random_state=0).fit(all_grouped_clustering)\n",
    "\n",
    "# check cluster labels generated for each row in the dataframe\n",
    "kmeans.labels_[0:20] \n"
   ]
  },
  {
   "cell_type": "code",
   "execution_count": null,
   "metadata": {},
   "outputs": [],
   "source": [
    "#Let's create a new dataframe that includes the cluster as well as the top 20 venues for each neighborhood.\n",
    "# add clustering labels\n",
    "\n",
    "\n",
    "#cities_venues_sorted.drop('Clusterlabel', axis=1, inplace=True)\n",
    "#cities_venues_sorted.insert(0, 'Cluster label', kmeans.labels_)\n",
    "cities_venues_sorted['Cluster label']=kmeans.labels_\n",
    "all_merged = all_cities\n",
    "\n",
    "# merge toronto_grouped with toronto_data to add latitude/longitude for each neighborhood\n",
    "#mn_merged.drop('Clusterlabel', axis=1, inplace=True)\n",
    "all_merged = all_merged.join(cities_venues_sorted.set_index('City'), on='City')\n",
    "#all_merged.drop('Cluster label', axis=1, inplace=True)\n",
    "all_merged.head(6) # check the last columns!\n"
   ]
  },
  {
   "cell_type": "code",
   "execution_count": null,
   "metadata": {},
   "outputs": [],
   "source": [
    "for ii in range(5):\n",
    "    num = all_merged.loc[all_merged['Cluster label'] == ii].shape[0]\n",
    "    print('Total number of neighborhoods in cluster {} is {}'.format(ii, num))"
   ]
  },
  {
   "cell_type": "code",
   "execution_count": null,
   "metadata": {},
   "outputs": [],
   "source": [
    "#cluster 0\n",
    "all_merged.loc[all_merged['Cluster label'] == 0]"
   ]
  },
  {
   "cell_type": "code",
   "execution_count": null,
   "metadata": {},
   "outputs": [],
   "source": [
    "#cluster 1\n",
    "all_merged.loc[all_merged['Cluster label'] == 1]"
   ]
  },
  {
   "cell_type": "code",
   "execution_count": null,
   "metadata": {},
   "outputs": [],
   "source": [
    "#cluster 2\n",
    "all_merged.loc[all_merged['Cluster label'] == 2]"
   ]
  },
  {
   "cell_type": "code",
   "execution_count": null,
   "metadata": {},
   "outputs": [],
   "source": [
    "all_merged.loc[all_merged['Cluster label'] == 3]"
   ]
  },
  {
   "cell_type": "code",
   "execution_count": null,
   "metadata": {},
   "outputs": [],
   "source": [
    "#cluster 4\n",
    "all_merged.loc[all_merged['Cluster label'] == 4]"
   ]
  },
  {
   "cell_type": "code",
   "execution_count": null,
   "metadata": {},
   "outputs": [],
   "source": [
    "#Finally, let's visualize the resulting clusters\n",
    "map_clusters = folium.Map(location=[latitudemn, longitudemn], zoom_start=11)\n",
    "\n",
    "# set color scheme for the clusters\n",
    "x = np.arange(kclusters)\n",
    "ys = [i + x + (i*x)**2 for i in range(kclusters)]\n",
    "colors_array = cm.rainbow(np.linspace(0, 1, len(ys)))\n",
    "rainbow = [colors.rgb2hex(i) for i in colors_array]\n",
    "\n",
    "# add markers to the map\n",
    "markers_colors = []\n",
    "for lat, lon, poi, cluster in zip(all_merged['Latitude'], all_merged['Longitude'], all_merged['City'], all_merged['Cluster label']):\n",
    "    label = folium.Popup(str(poi) + ' Cluster ' + str(cluster), parse_html=True)\n",
    "    folium.CircleMarker(\n",
    "        [lat, lon],\n",
    "        radius=5,\n",
    "        popup=label,\n",
    "        color=rainbow[np.int(cluster)-1],\n",
    "        fill=True,\n",
    "        fill_color=rainbow[np.int(cluster)-1],\n",
    "        fill_opacity=0.7).add_to(map_clusters)\n",
    "       \n",
    "map_clusters"
   ]
  },
  {
   "cell_type": "code",
   "execution_count": null,
   "metadata": {},
   "outputs": [],
   "source": [
    "#Finally, let's visualize the resulting clusters\n",
    "map_clusters = folium.Map(location=[latitudetj, longitudetj], zoom_start=11)\n",
    "\n",
    "# set color scheme for the clusters\n",
    "x = np.arange(kclusters)\n",
    "ys = [i + x + (i*x)**2 for i in range(kclusters)]\n",
    "colors_array = cm.rainbow(np.linspace(0, 1, len(ys)))\n",
    "rainbow = [colors.rgb2hex(i) for i in colors_array]\n",
    "\n",
    "# add markers to the map\n",
    "markers_colors = []\n",
    "for lat, lon, poi, cluster in zip(all_merged['Latitude'], all_merged['Longitude'], all_merged['City'], all_merged['Cluster label']):\n",
    "    label = folium.Popup(str(poi) + ' Cluster ' + str(cluster), parse_html=True)\n",
    "    folium.CircleMarker(\n",
    "        [lat, lon],\n",
    "        radius=5,\n",
    "        popup=label,\n",
    "        color=rainbow[np.int(cluster)-1],\n",
    "        fill=True,\n",
    "        fill_color=rainbow[np.int(cluster)-1],\n",
    "        fill_opacity=0.7).add_to(map_clusters)\n",
    "       \n",
    "map_clusters"
   ]
  },
  {
   "cell_type": "markdown",
   "metadata": {},
   "source": [
    "## Report link\n",
    "\n",
    "#### https://xiaojunfu.blogspot.com/2020/06/where-to-live-after-retirement.html"
   ]
  }
 ],
 "metadata": {
  "kernelspec": {
   "display_name": "Python 3",
   "language": "python",
   "name": "python3"
  },
  "language_info": {
   "codemirror_mode": {
    "name": "ipython",
    "version": 3
   },
   "file_extension": ".py",
   "mimetype": "text/x-python",
   "name": "python",
   "nbconvert_exporter": "python",
   "pygments_lexer": "ipython3",
   "version": "3.7.6"
  }
 },
 "nbformat": 4,
 "nbformat_minor": 4
}
